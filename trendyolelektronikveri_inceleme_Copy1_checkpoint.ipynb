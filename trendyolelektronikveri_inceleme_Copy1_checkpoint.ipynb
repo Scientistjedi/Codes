{
  "cells": [
    {
      "cell_type": "markdown",
      "metadata": {
        "id": "view-in-github",
        "colab_type": "text"
      },
      "source": [
        "<a href=\"https://colab.research.google.com/github/Scientistjedi/Codes/blob/master/trendyolelektronikveri_inceleme_Copy1_checkpoint.ipynb\" target=\"_parent\"><img src=\"https://colab.research.google.com/assets/colab-badge.svg\" alt=\"Open In Colab\"/></a>"
      ]
    },
    {
      "cell_type": "code",
      "execution_count": null,
      "metadata": {
        "id": "Ou2ti6q4dxXq"
      },
      "outputs": [],
      "source": [
        "import numpy as np\n",
        "import pandas as pd # data processing, CSV file I/O (e.g. pd.read_csv)"
      ]
    },
    {
      "cell_type": "code",
      "execution_count": null,
      "metadata": {
        "id": "-7sPtMUsdxXv"
      },
      "outputs": [],
      "source": [
        "df = pd.read_csv(\"C:/Users/Kerem/Desktop/trendyolelektronik_verison.csv\")"
      ]
    },
    {
      "cell_type": "code",
      "execution_count": null,
      "metadata": {
        "id": "Am53Aj7PdxXw"
      },
      "outputs": [],
      "source": [
        "df.drop([\"Unnamed: 1\",\"Unnamed: 2\",\"Unnamed: 3\",\"Unnamed: 4\",\"Unnamed: 5\",\"Unnamed: 6\",\"Unnamed: 7\",\"Unnamed: 8\",\"Unnamed: 9\",\"Unnamed: 10\",\"Unnamed: 11\",\"Unnamed: 12\",\"Unnamed: 13\",\"Unnamed: 14\",\"Unnamed: 15\",\"Unnamed: 16\",\"Unnamed: 17\",\"Unnamed: 18\",\"Unnamed: 19\",\"Unnamed: 20\",\"Unnamed: 21\",\"Unnamed: 22\",\"Unnamed: 23\",\"Unnamed: 24\",\"Unnamed: 25\",\"Unnamed: 26\",\"Unnamed: 27\",\"Unnamed: 28\",\"Unnamed: 29\",\"Unnamed: 30\",\"Unnamed: 31\",\"Unnamed: 32\",\"Unnamed: 33\",\"Unnamed: 34\",\"Unnamed: 35\"],axis=1,inplace=True)"
      ]
    },
    {
      "cell_type": "code",
      "execution_count": null,
      "metadata": {
        "id": "pHnGQPt0dxXx"
      },
      "outputs": [],
      "source": [
        "df['Unnamed: 36']=df['Unnamed: 36'].fillna('BOSDEGER')\n",
        "df['Unnamed: 37']=df['Unnamed: 37'].fillna('BOSDEGER')\n",
        "df['Unnamed: 38']=df['Unnamed: 38'].fillna('BOSDEGER')\n",
        "df['Unnamed: 39']=df['Unnamed: 39'].fillna('BOSDEGER')"
      ]
    },
    {
      "cell_type": "code",
      "execution_count": null,
      "metadata": {
        "id": "ETR6oBojdxXy"
      },
      "outputs": [],
      "source": []
    },
    {
      "cell_type": "code",
      "execution_count": null,
      "metadata": {
        "id": "85ujuMyHdxXy",
        "outputId": "3e5436cb-9d9b-48d5-aa07-2c894e0b5cd5"
      },
      "outputs": [
        {
          "name": "stdout",
          "output_type": "stream",
          "text": [
            "<class 'pandas.core.frame.DataFrame'>\n",
            "RangeIndex: 1204 entries, 0 to 1203\n",
            "Data columns (total 6 columns):\n",
            " #   Column       Non-Null Count  Dtype \n",
            "---  ------       --------------  ----- \n",
            " 0   Yorumlar     1204 non-null   object\n",
            " 1   Unnamed: 36  1204 non-null   object\n",
            " 2   Unnamed: 37  1204 non-null   object\n",
            " 3   Unnamed: 38  1204 non-null   object\n",
            " 4   Unnamed: 39  1204 non-null   object\n",
            " 5   DEGER        1204 non-null   object\n",
            "dtypes: object(6)\n",
            "memory usage: 56.6+ KB\n"
          ]
        }
      ],
      "source": [
        "df.info()"
      ]
    },
    {
      "cell_type": "code",
      "execution_count": null,
      "metadata": {
        "id": "hY0Ud-ZwdxXz",
        "outputId": "c3dc967c-c40c-4e68-efc2-3e465bf2f8b2"
      },
      "outputs": [
        {
          "data": {
            "text/html": [
              "<div>\n",
              "<style scoped>\n",
              "    .dataframe tbody tr th:only-of-type {\n",
              "        vertical-align: middle;\n",
              "    }\n",
              "\n",
              "    .dataframe tbody tr th {\n",
              "        vertical-align: top;\n",
              "    }\n",
              "\n",
              "    .dataframe thead th {\n",
              "        text-align: right;\n",
              "    }\n",
              "</style>\n",
              "<table border=\"1\" class=\"dataframe\">\n",
              "  <thead>\n",
              "    <tr style=\"text-align: right;\">\n",
              "      <th></th>\n",
              "      <th>Yorumlar</th>\n",
              "      <th>Unnamed: 36</th>\n",
              "      <th>Unnamed: 37</th>\n",
              "      <th>Unnamed: 38</th>\n",
              "      <th>Unnamed: 39</th>\n",
              "      <th>DEGER</th>\n",
              "    </tr>\n",
              "  </thead>\n",
              "  <tbody>\n",
              "    <tr>\n",
              "      <th>0</th>\n",
              "      <td>Sepet indirimi varken aldım çok hızlı ve güven...</td>\n",
              "      <td>BOSDEGER</td>\n",
              "      <td>BOSDEGER</td>\n",
              "      <td>BOSDEGER</td>\n",
              "      <td>BOSDEGER</td>\n",
              "      <td>POZİTİF</td>\n",
              "    </tr>\n",
              "    <tr>\n",
              "      <th>1</th>\n",
              "      <td>Üzümlü kekim güvenerek alabilirsiniz</td>\n",
              "      <td>BOSDEGER</td>\n",
              "      <td>BOSDEGER</td>\n",
              "      <td>BOSDEGER</td>\n",
              "      <td>BOSDEGER</td>\n",
              "      <td>POZİTİF</td>\n",
              "    </tr>\n",
              "    <tr>\n",
              "      <th>2</th>\n",
              "      <td>Hızlı kargo için teşekkür ederim</td>\n",
              "      <td>BOSDEGER</td>\n",
              "      <td>BOSDEGER</td>\n",
              "      <td>BOSDEGER</td>\n",
              "      <td>BOSDEGER</td>\n",
              "      <td>POZİTİF</td>\n",
              "    </tr>\n",
              "    <tr>\n",
              "      <th>3</th>\n",
              "      <td>HIzlı kargo tesekkür ederiz</td>\n",
              "      <td>BOSDEGER</td>\n",
              "      <td>BOSDEGER</td>\n",
              "      <td>BOSDEGER</td>\n",
              "      <td>BOSDEGER</td>\n",
              "      <td>POZİTİF</td>\n",
              "    </tr>\n",
              "    <tr>\n",
              "      <th>4</th>\n",
              "      <td>Ürün çok kaliteli söylemeye gerek bile yok</td>\n",
              "      <td>BOSDEGER</td>\n",
              "      <td>BOSDEGER</td>\n",
              "      <td>BOSDEGER</td>\n",
              "      <td>BOSDEGER</td>\n",
              "      <td>POZİTİF</td>\n",
              "    </tr>\n",
              "    <tr>\n",
              "      <th>...</th>\n",
              "      <td>...</td>\n",
              "      <td>...</td>\n",
              "      <td>...</td>\n",
              "      <td>...</td>\n",
              "      <td>...</td>\n",
              "      <td>...</td>\n",
              "    </tr>\n",
              "    <tr>\n",
              "      <th>1199</th>\n",
              "      <td>ürün orijinal rahatlıkla alabilirsiniz çok kıs...</td>\n",
              "      <td>BOSDEGER</td>\n",
              "      <td>BOSDEGER</td>\n",
              "      <td>BOSDEGER</td>\n",
              "      <td>BOSDEGER</td>\n",
              "      <td>POZİTİF</td>\n",
              "    </tr>\n",
              "    <tr>\n",
              "      <th>1200</th>\n",
              "      <td>paketlemesi çok iyiydi sapasağlam elimize ulaştı</td>\n",
              "      <td>BOSDEGER</td>\n",
              "      <td>BOSDEGER</td>\n",
              "      <td>BOSDEGER</td>\n",
              "      <td>BOSDEGER</td>\n",
              "      <td>POZİTİF</td>\n",
              "    </tr>\n",
              "    <tr>\n",
              "      <th>1201</th>\n",
              "      <td>üründe bir sıkıntı var whatsappta konuşulmuyor...</td>\n",
              "      <td>BOSDEGER</td>\n",
              "      <td>BOSDEGER</td>\n",
              "      <td>BOSDEGER</td>\n",
              "      <td>BOSDEGER</td>\n",
              "      <td>NEGATİF</td>\n",
              "    </tr>\n",
              "    <tr>\n",
              "      <th>1202</th>\n",
              "      <td>Kargolama çok iyiydi boşuna internetten almaya...</td>\n",
              "      <td>BOSDEGER</td>\n",
              "      <td>BOSDEGER</td>\n",
              "      <td>BOSDEGER</td>\n",
              "      <td>BOSDEGER</td>\n",
              "      <td>POZİTİF</td>\n",
              "    </tr>\n",
              "    <tr>\n",
              "      <th>1203</th>\n",
              "      <td>Kızıma doğum günü hediyesi olarak aldık hızlı ...</td>\n",
              "      <td>BOSDEGER</td>\n",
              "      <td>BOSDEGER</td>\n",
              "      <td>BOSDEGER</td>\n",
              "      <td>BOSDEGER</td>\n",
              "      <td>POZİTİF</td>\n",
              "    </tr>\n",
              "  </tbody>\n",
              "</table>\n",
              "<p>1204 rows × 6 columns</p>\n",
              "</div>"
            ],
            "text/plain": [
              "                                               Yorumlar Unnamed: 36  \\\n",
              "0     Sepet indirimi varken aldım çok hızlı ve güven...    BOSDEGER   \n",
              "1                  Üzümlü kekim güvenerek alabilirsiniz    BOSDEGER   \n",
              "2                     Hızlı kargo için teşekkür ederim     BOSDEGER   \n",
              "3                           HIzlı kargo tesekkür ederiz    BOSDEGER   \n",
              "4            Ürün çok kaliteli söylemeye gerek bile yok    BOSDEGER   \n",
              "...                                                 ...         ...   \n",
              "1199  ürün orijinal rahatlıkla alabilirsiniz çok kıs...    BOSDEGER   \n",
              "1200   paketlemesi çok iyiydi sapasağlam elimize ulaştı    BOSDEGER   \n",
              "1201  üründe bir sıkıntı var whatsappta konuşulmuyor...    BOSDEGER   \n",
              "1202  Kargolama çok iyiydi boşuna internetten almaya...    BOSDEGER   \n",
              "1203  Kızıma doğum günü hediyesi olarak aldık hızlı ...    BOSDEGER   \n",
              "\n",
              "     Unnamed: 37 Unnamed: 38 Unnamed: 39    DEGER  \n",
              "0       BOSDEGER    BOSDEGER    BOSDEGER  POZİTİF  \n",
              "1       BOSDEGER    BOSDEGER    BOSDEGER  POZİTİF  \n",
              "2       BOSDEGER    BOSDEGER    BOSDEGER  POZİTİF  \n",
              "3       BOSDEGER    BOSDEGER    BOSDEGER  POZİTİF  \n",
              "4       BOSDEGER    BOSDEGER    BOSDEGER  POZİTİF  \n",
              "...          ...         ...         ...      ...  \n",
              "1199    BOSDEGER    BOSDEGER    BOSDEGER  POZİTİF  \n",
              "1200    BOSDEGER    BOSDEGER    BOSDEGER  POZİTİF  \n",
              "1201    BOSDEGER    BOSDEGER    BOSDEGER  NEGATİF  \n",
              "1202    BOSDEGER    BOSDEGER    BOSDEGER  POZİTİF  \n",
              "1203    BOSDEGER    BOSDEGER    BOSDEGER  POZİTİF  \n",
              "\n",
              "[1204 rows x 6 columns]"
            ]
          },
          "execution_count": 67,
          "metadata": {},
          "output_type": "execute_result"
        }
      ],
      "source": [
        "df"
      ]
    },
    {
      "cell_type": "code",
      "execution_count": null,
      "metadata": {
        "id": "06o_GIQHdxXz",
        "outputId": "9b0018d3-94d8-4032-c541-dc1f096d4480"
      },
      "outputs": [
        {
          "name": "stderr",
          "output_type": "stream",
          "text": [
            "[nltk_data] Downloading package stopwords to\n",
            "[nltk_data]     C:\\Users\\Kerem\\AppData\\Roaming\\nltk_data...\n",
            "[nltk_data]   Unzipping corpora\\stopwords.zip.\n"
          ]
        },
        {
          "data": {
            "text/plain": [
              "True"
            ]
          },
          "execution_count": 68,
          "metadata": {},
          "output_type": "execute_result"
        }
      ],
      "source": [
        "import string\n",
        "from nltk.corpus import stopwords\n",
        "from collections import Counter\n",
        "from nltk.stem.porter import PorterStemmer\n",
        "import re\n",
        "from nltk.stem import WordNetLemmatizer\n",
        "from snowballstemmer import TurkishStemmer\n",
        "import nltk\n",
        "nltk.download('stopwords')"
      ]
    },
    {
      "cell_type": "code",
      "execution_count": null,
      "metadata": {
        "id": "cE3xX4YUdxX0"
      },
      "outputs": [],
      "source": [
        "punctation = string.punctuation\n",
        "def ozelkarakter_temizleme (metin):\n",
        "    return metin.translate(str.maketrans(\"\",\"\",punctation))\n",
        "stopword = set(stopwords.words(\"turkish\"))\n",
        "def stopwords_temizleme (metin):\n",
        "    return \" \".join([kelime for kelime in str(metin).split() if kelime not in stopword])"
      ]
    },
    {
      "cell_type": "code",
      "execution_count": null,
      "metadata": {
        "id": "dHgXguOidxX0"
      },
      "outputs": [],
      "source": [
        "count = Counter()\n",
        "\n",
        "#sık kullanılan kelimeleri temizleme\n",
        "for metin in df[\"Yorumlar\"].values:\n",
        "    for kelime in metin.split():\n",
        "        count[kelime] += 1"
      ]
    },
    {
      "cell_type": "code",
      "execution_count": null,
      "metadata": {
        "id": "-uo1UJZMdxX1",
        "outputId": "2297326b-fc69-4316-e328-417e2b44e241"
      },
      "outputs": [
        {
          "data": {
            "text/plain": [
              "[('çok', 346),\n",
              " ('bir', 341),\n",
              " ('ve', 268),\n",
              " ('güzel', 251),\n",
              " ('ürün', 184),\n",
              " ('hızlı', 179),\n",
              " ('iyi', 172),\n",
              " ('telefon', 141),\n",
              " ('geldi', 138),\n",
              " ('gayet', 128)]"
            ]
          },
          "execution_count": 71,
          "metadata": {},
          "output_type": "execute_result"
        }
      ],
      "source": [
        "count.most_common(10)"
      ]
    },
    {
      "cell_type": "code",
      "execution_count": null,
      "metadata": {
        "id": "BGrYqnqedxX1"
      },
      "outputs": [],
      "source": [
        "frekans = set([i for (i,j) in count.most_common(15)])\n",
        "nadir = 15\n",
        "nadir_kelime = set([i for (i,j) in count.most_common()[:-nadir-1:-1]])\n",
        "def frekans_sil(metin):\n",
        "    return \" \".join([kelime for kelime in str(metin).split() if kelime not in frekans])"
      ]
    },
    {
      "cell_type": "code",
      "execution_count": null,
      "metadata": {
        "id": "UDhFw2etdxX2"
      },
      "outputs": [],
      "source": [
        "#Emojileri Silme\n",
        "\n",
        "def emoji_silme (metin):\n",
        "    emoji = re.compile(\"[\"\n",
        "                               u\"\\U0001F600-\\U0001F64F\"  \n",
        "                               u\"\\U0001F300-\\U0001F5FF\"                                 \n",
        "                               u\"\\U0001F680-\\U0001F6FF\"  \n",
        "                               u\"\\U0001F1E0-\\U0001F1FF\"  \n",
        "                               u\"\\U00002500-\\U00002BEF\"                                 \n",
        "                               u\"\\U00002702-\\U000027B0\"\n",
        "                               u\"\\U00002702-\\U000027B0\"\n",
        "                               u\"\\U000024C2-\\U0001F251\"\n",
        "                               u\"\\U0001f926-\\U0001f937\"\n",
        "                               u\"\\U00010000-\\U0010ffff\"\n",
        "                               u\"\\u2640-\\u2642\"\n",
        "                               u\"\\u2600-\\u2B55\"\n",
        "                               u\"\\u200d\"\n",
        "                               u\"\\u23cf\"\n",
        "                               u\"\\u23e9\"\n",
        "                               u\"\\u231a\"\n",
        "                               u\"\\ufe0f\"  \n",
        "                               u\"\\u3030\"\n",
        "                               \"]+\", flags=re.UNICODE)\n",
        "    return emoji.sub(r\"\",metin)"
      ]
    },
    {
      "cell_type": "code",
      "execution_count": null,
      "metadata": {
        "id": "44MvzuwtdxX2",
        "outputId": "12ccc9f5-a691-4c63-f13f-23599b6d25d3"
      },
      "outputs": [
        {
          "data": {
            "text/html": [
              "<div>\n",
              "<style scoped>\n",
              "    .dataframe tbody tr th:only-of-type {\n",
              "        vertical-align: middle;\n",
              "    }\n",
              "\n",
              "    .dataframe tbody tr th {\n",
              "        vertical-align: top;\n",
              "    }\n",
              "\n",
              "    .dataframe thead th {\n",
              "        text-align: right;\n",
              "    }\n",
              "</style>\n",
              "<table border=\"1\" class=\"dataframe\">\n",
              "  <thead>\n",
              "    <tr style=\"text-align: right;\">\n",
              "      <th></th>\n",
              "      <th>Yorumlar</th>\n",
              "      <th>Unnamed: 36</th>\n",
              "      <th>Unnamed: 37</th>\n",
              "      <th>Unnamed: 38</th>\n",
              "      <th>Unnamed: 39</th>\n",
              "      <th>DEGER</th>\n",
              "    </tr>\n",
              "  </thead>\n",
              "  <tbody>\n",
              "    <tr>\n",
              "      <th>0</th>\n",
              "      <td>Sepet indirimi varken aldım çok hızlı ve güven...</td>\n",
              "      <td>BOSDEGER</td>\n",
              "      <td>BOSDEGER</td>\n",
              "      <td>BOSDEGER</td>\n",
              "      <td>BOSDEGER</td>\n",
              "      <td>POZİTİF</td>\n",
              "    </tr>\n",
              "    <tr>\n",
              "      <th>1</th>\n",
              "      <td>Üzümlü kekim güvenerek alabilirsiniz</td>\n",
              "      <td>BOSDEGER</td>\n",
              "      <td>BOSDEGER</td>\n",
              "      <td>BOSDEGER</td>\n",
              "      <td>BOSDEGER</td>\n",
              "      <td>POZİTİF</td>\n",
              "    </tr>\n",
              "    <tr>\n",
              "      <th>2</th>\n",
              "      <td>Hızlı kargo için teşekkür ederim</td>\n",
              "      <td>BOSDEGER</td>\n",
              "      <td>BOSDEGER</td>\n",
              "      <td>BOSDEGER</td>\n",
              "      <td>BOSDEGER</td>\n",
              "      <td>POZİTİF</td>\n",
              "    </tr>\n",
              "    <tr>\n",
              "      <th>3</th>\n",
              "      <td>HIzlı kargo tesekkür ederiz</td>\n",
              "      <td>BOSDEGER</td>\n",
              "      <td>BOSDEGER</td>\n",
              "      <td>BOSDEGER</td>\n",
              "      <td>BOSDEGER</td>\n",
              "      <td>POZİTİF</td>\n",
              "    </tr>\n",
              "    <tr>\n",
              "      <th>4</th>\n",
              "      <td>Ürün çok kaliteli söylemeye gerek bile yok</td>\n",
              "      <td>BOSDEGER</td>\n",
              "      <td>BOSDEGER</td>\n",
              "      <td>BOSDEGER</td>\n",
              "      <td>BOSDEGER</td>\n",
              "      <td>POZİTİF</td>\n",
              "    </tr>\n",
              "    <tr>\n",
              "      <th>...</th>\n",
              "      <td>...</td>\n",
              "      <td>...</td>\n",
              "      <td>...</td>\n",
              "      <td>...</td>\n",
              "      <td>...</td>\n",
              "      <td>...</td>\n",
              "    </tr>\n",
              "    <tr>\n",
              "      <th>1199</th>\n",
              "      <td>ürün orijinal rahatlıkla alabilirsiniz çok kıs...</td>\n",
              "      <td>BOSDEGER</td>\n",
              "      <td>BOSDEGER</td>\n",
              "      <td>BOSDEGER</td>\n",
              "      <td>BOSDEGER</td>\n",
              "      <td>POZİTİF</td>\n",
              "    </tr>\n",
              "    <tr>\n",
              "      <th>1200</th>\n",
              "      <td>paketlemesi çok iyiydi sapasağlam elimize ulaştı</td>\n",
              "      <td>BOSDEGER</td>\n",
              "      <td>BOSDEGER</td>\n",
              "      <td>BOSDEGER</td>\n",
              "      <td>BOSDEGER</td>\n",
              "      <td>POZİTİF</td>\n",
              "    </tr>\n",
              "    <tr>\n",
              "      <th>1201</th>\n",
              "      <td>üründe bir sıkıntı var whatsappta konuşulmuyor...</td>\n",
              "      <td>BOSDEGER</td>\n",
              "      <td>BOSDEGER</td>\n",
              "      <td>BOSDEGER</td>\n",
              "      <td>BOSDEGER</td>\n",
              "      <td>NEGATİF</td>\n",
              "    </tr>\n",
              "    <tr>\n",
              "      <th>1202</th>\n",
              "      <td>Kargolama çok iyiydi boşuna internetten almaya...</td>\n",
              "      <td>BOSDEGER</td>\n",
              "      <td>BOSDEGER</td>\n",
              "      <td>BOSDEGER</td>\n",
              "      <td>BOSDEGER</td>\n",
              "      <td>POZİTİF</td>\n",
              "    </tr>\n",
              "    <tr>\n",
              "      <th>1203</th>\n",
              "      <td>Kızıma doğum günü hediyesi olarak aldık hızlı ...</td>\n",
              "      <td>BOSDEGER</td>\n",
              "      <td>BOSDEGER</td>\n",
              "      <td>BOSDEGER</td>\n",
              "      <td>BOSDEGER</td>\n",
              "      <td>POZİTİF</td>\n",
              "    </tr>\n",
              "  </tbody>\n",
              "</table>\n",
              "<p>1204 rows × 6 columns</p>\n",
              "</div>"
            ],
            "text/plain": [
              "                                               Yorumlar Unnamed: 36  \\\n",
              "0     Sepet indirimi varken aldım çok hızlı ve güven...    BOSDEGER   \n",
              "1                  Üzümlü kekim güvenerek alabilirsiniz    BOSDEGER   \n",
              "2                     Hızlı kargo için teşekkür ederim     BOSDEGER   \n",
              "3                           HIzlı kargo tesekkür ederiz    BOSDEGER   \n",
              "4            Ürün çok kaliteli söylemeye gerek bile yok    BOSDEGER   \n",
              "...                                                 ...         ...   \n",
              "1199  ürün orijinal rahatlıkla alabilirsiniz çok kıs...    BOSDEGER   \n",
              "1200   paketlemesi çok iyiydi sapasağlam elimize ulaştı    BOSDEGER   \n",
              "1201  üründe bir sıkıntı var whatsappta konuşulmuyor...    BOSDEGER   \n",
              "1202  Kargolama çok iyiydi boşuna internetten almaya...    BOSDEGER   \n",
              "1203  Kızıma doğum günü hediyesi olarak aldık hızlı ...    BOSDEGER   \n",
              "\n",
              "     Unnamed: 37 Unnamed: 38 Unnamed: 39    DEGER  \n",
              "0       BOSDEGER    BOSDEGER    BOSDEGER  POZİTİF  \n",
              "1       BOSDEGER    BOSDEGER    BOSDEGER  POZİTİF  \n",
              "2       BOSDEGER    BOSDEGER    BOSDEGER  POZİTİF  \n",
              "3       BOSDEGER    BOSDEGER    BOSDEGER  POZİTİF  \n",
              "4       BOSDEGER    BOSDEGER    BOSDEGER  POZİTİF  \n",
              "...          ...         ...         ...      ...  \n",
              "1199    BOSDEGER    BOSDEGER    BOSDEGER  POZİTİF  \n",
              "1200    BOSDEGER    BOSDEGER    BOSDEGER  POZİTİF  \n",
              "1201    BOSDEGER    BOSDEGER    BOSDEGER  NEGATİF  \n",
              "1202    BOSDEGER    BOSDEGER    BOSDEGER  POZİTİF  \n",
              "1203    BOSDEGER    BOSDEGER    BOSDEGER  POZİTİF  \n",
              "\n",
              "[1204 rows x 6 columns]"
            ]
          },
          "execution_count": 75,
          "metadata": {},
          "output_type": "execute_result"
        }
      ],
      "source": [
        "df"
      ]
    },
    {
      "cell_type": "code",
      "execution_count": null,
      "metadata": {
        "id": "XRV3ueLDdxX3",
        "outputId": "3172fe4a-e82c-413e-d3f7-b2da98430d52"
      },
      "outputs": [
        {
          "data": {
            "text/plain": [
              "(1204, 6)"
            ]
          },
          "execution_count": 76,
          "metadata": {},
          "output_type": "execute_result"
        }
      ],
      "source": [
        "df.shape\n"
      ]
    },
    {
      "cell_type": "code",
      "execution_count": null,
      "metadata": {
        "id": "OW-hCU_-dxX3"
      },
      "outputs": [],
      "source": [
        "df[\"DEGER\"] = [0 if (i==\"NEGATİF\") else 1 for i in df[\"DEGER\"]]"
      ]
    },
    {
      "cell_type": "code",
      "execution_count": null,
      "metadata": {
        "id": "LDRtdfiZdxX3",
        "outputId": "07595170-03c1-495d-9d71-5a9a7a83321c"
      },
      "outputs": [
        {
          "name": "stdout",
          "output_type": "stream",
          "text": [
            "<class 'pandas.core.frame.DataFrame'>\n",
            "RangeIndex: 1204 entries, 0 to 1203\n",
            "Data columns (total 6 columns):\n",
            " #   Column       Non-Null Count  Dtype \n",
            "---  ------       --------------  ----- \n",
            " 0   Yorumlar     1204 non-null   object\n",
            " 1   Unnamed: 36  1204 non-null   object\n",
            " 2   Unnamed: 37  1204 non-null   object\n",
            " 3   Unnamed: 38  1204 non-null   object\n",
            " 4   Unnamed: 39  1204 non-null   object\n",
            " 5   DEGER        1204 non-null   int64 \n",
            "dtypes: int64(1), object(5)\n",
            "memory usage: 56.6+ KB\n"
          ]
        }
      ],
      "source": [
        "df.info()"
      ]
    },
    {
      "cell_type": "code",
      "execution_count": null,
      "metadata": {
        "id": "HEWgJ06xdxX3",
        "outputId": "e5c7fc17-d1c8-47e6-f3fd-b61936575dda"
      },
      "outputs": [
        {
          "name": "stdout",
          "output_type": "stream",
          "text": [
            "Kayıp Veriler :Yorumlar       0\n",
            "Unnamed: 36    0\n",
            "Unnamed: 37    0\n",
            "Unnamed: 38    0\n",
            "Unnamed: 39    0\n",
            "DEGER          0\n",
            "dtype: int64\n"
          ]
        }
      ],
      "source": [
        "print(\"Kayıp Veriler :{}\".format(df.isnull().sum()))"
      ]
    },
    {
      "cell_type": "code",
      "execution_count": null,
      "metadata": {
        "id": "_ba1SPNDdxX4",
        "outputId": "2491c6ef-bfde-4058-8d81-410b376edfb4"
      },
      "outputs": [
        {
          "data": {
            "text/html": [
              "<div>\n",
              "<style scoped>\n",
              "    .dataframe tbody tr th:only-of-type {\n",
              "        vertical-align: middle;\n",
              "    }\n",
              "\n",
              "    .dataframe tbody tr th {\n",
              "        vertical-align: top;\n",
              "    }\n",
              "\n",
              "    .dataframe thead th {\n",
              "        text-align: right;\n",
              "    }\n",
              "</style>\n",
              "<table border=\"1\" class=\"dataframe\">\n",
              "  <thead>\n",
              "    <tr style=\"text-align: right;\">\n",
              "      <th></th>\n",
              "      <th>Yorumlar</th>\n",
              "      <th>Unnamed: 36</th>\n",
              "      <th>Unnamed: 37</th>\n",
              "      <th>Unnamed: 38</th>\n",
              "      <th>Unnamed: 39</th>\n",
              "      <th>DEGER</th>\n",
              "    </tr>\n",
              "  </thead>\n",
              "  <tbody>\n",
              "    <tr>\n",
              "      <th>0</th>\n",
              "      <td>Sepet indirimi varken aldım çok hızlı ve güven...</td>\n",
              "      <td>BOSDEGER</td>\n",
              "      <td>BOSDEGER</td>\n",
              "      <td>BOSDEGER</td>\n",
              "      <td>BOSDEGER</td>\n",
              "      <td>1</td>\n",
              "    </tr>\n",
              "    <tr>\n",
              "      <th>1</th>\n",
              "      <td>Üzümlü kekim güvenerek alabilirsiniz</td>\n",
              "      <td>BOSDEGER</td>\n",
              "      <td>BOSDEGER</td>\n",
              "      <td>BOSDEGER</td>\n",
              "      <td>BOSDEGER</td>\n",
              "      <td>1</td>\n",
              "    </tr>\n",
              "    <tr>\n",
              "      <th>2</th>\n",
              "      <td>Hızlı kargo için teşekkür ederim</td>\n",
              "      <td>BOSDEGER</td>\n",
              "      <td>BOSDEGER</td>\n",
              "      <td>BOSDEGER</td>\n",
              "      <td>BOSDEGER</td>\n",
              "      <td>1</td>\n",
              "    </tr>\n",
              "    <tr>\n",
              "      <th>3</th>\n",
              "      <td>HIzlı kargo tesekkür ederiz</td>\n",
              "      <td>BOSDEGER</td>\n",
              "      <td>BOSDEGER</td>\n",
              "      <td>BOSDEGER</td>\n",
              "      <td>BOSDEGER</td>\n",
              "      <td>1</td>\n",
              "    </tr>\n",
              "    <tr>\n",
              "      <th>4</th>\n",
              "      <td>Ürün çok kaliteli söylemeye gerek bile yok</td>\n",
              "      <td>BOSDEGER</td>\n",
              "      <td>BOSDEGER</td>\n",
              "      <td>BOSDEGER</td>\n",
              "      <td>BOSDEGER</td>\n",
              "      <td>1</td>\n",
              "    </tr>\n",
              "    <tr>\n",
              "      <th>...</th>\n",
              "      <td>...</td>\n",
              "      <td>...</td>\n",
              "      <td>...</td>\n",
              "      <td>...</td>\n",
              "      <td>...</td>\n",
              "      <td>...</td>\n",
              "    </tr>\n",
              "    <tr>\n",
              "      <th>1199</th>\n",
              "      <td>ürün orijinal rahatlıkla alabilirsiniz çok kıs...</td>\n",
              "      <td>BOSDEGER</td>\n",
              "      <td>BOSDEGER</td>\n",
              "      <td>BOSDEGER</td>\n",
              "      <td>BOSDEGER</td>\n",
              "      <td>1</td>\n",
              "    </tr>\n",
              "    <tr>\n",
              "      <th>1200</th>\n",
              "      <td>paketlemesi çok iyiydi sapasağlam elimize ulaştı</td>\n",
              "      <td>BOSDEGER</td>\n",
              "      <td>BOSDEGER</td>\n",
              "      <td>BOSDEGER</td>\n",
              "      <td>BOSDEGER</td>\n",
              "      <td>1</td>\n",
              "    </tr>\n",
              "    <tr>\n",
              "      <th>1201</th>\n",
              "      <td>üründe bir sıkıntı var whatsappta konuşulmuyor...</td>\n",
              "      <td>BOSDEGER</td>\n",
              "      <td>BOSDEGER</td>\n",
              "      <td>BOSDEGER</td>\n",
              "      <td>BOSDEGER</td>\n",
              "      <td>1</td>\n",
              "    </tr>\n",
              "    <tr>\n",
              "      <th>1202</th>\n",
              "      <td>Kargolama çok iyiydi boşuna internetten almaya...</td>\n",
              "      <td>BOSDEGER</td>\n",
              "      <td>BOSDEGER</td>\n",
              "      <td>BOSDEGER</td>\n",
              "      <td>BOSDEGER</td>\n",
              "      <td>1</td>\n",
              "    </tr>\n",
              "    <tr>\n",
              "      <th>1203</th>\n",
              "      <td>Kızıma doğum günü hediyesi olarak aldık hızlı ...</td>\n",
              "      <td>BOSDEGER</td>\n",
              "      <td>BOSDEGER</td>\n",
              "      <td>BOSDEGER</td>\n",
              "      <td>BOSDEGER</td>\n",
              "      <td>1</td>\n",
              "    </tr>\n",
              "  </tbody>\n",
              "</table>\n",
              "<p>1204 rows × 6 columns</p>\n",
              "</div>"
            ],
            "text/plain": [
              "                                               Yorumlar Unnamed: 36  \\\n",
              "0     Sepet indirimi varken aldım çok hızlı ve güven...    BOSDEGER   \n",
              "1                  Üzümlü kekim güvenerek alabilirsiniz    BOSDEGER   \n",
              "2                     Hızlı kargo için teşekkür ederim     BOSDEGER   \n",
              "3                           HIzlı kargo tesekkür ederiz    BOSDEGER   \n",
              "4            Ürün çok kaliteli söylemeye gerek bile yok    BOSDEGER   \n",
              "...                                                 ...         ...   \n",
              "1199  ürün orijinal rahatlıkla alabilirsiniz çok kıs...    BOSDEGER   \n",
              "1200   paketlemesi çok iyiydi sapasağlam elimize ulaştı    BOSDEGER   \n",
              "1201  üründe bir sıkıntı var whatsappta konuşulmuyor...    BOSDEGER   \n",
              "1202  Kargolama çok iyiydi boşuna internetten almaya...    BOSDEGER   \n",
              "1203  Kızıma doğum günü hediyesi olarak aldık hızlı ...    BOSDEGER   \n",
              "\n",
              "     Unnamed: 37 Unnamed: 38 Unnamed: 39  DEGER  \n",
              "0       BOSDEGER    BOSDEGER    BOSDEGER      1  \n",
              "1       BOSDEGER    BOSDEGER    BOSDEGER      1  \n",
              "2       BOSDEGER    BOSDEGER    BOSDEGER      1  \n",
              "3       BOSDEGER    BOSDEGER    BOSDEGER      1  \n",
              "4       BOSDEGER    BOSDEGER    BOSDEGER      1  \n",
              "...          ...         ...         ...    ...  \n",
              "1199    BOSDEGER    BOSDEGER    BOSDEGER      1  \n",
              "1200    BOSDEGER    BOSDEGER    BOSDEGER      1  \n",
              "1201    BOSDEGER    BOSDEGER    BOSDEGER      1  \n",
              "1202    BOSDEGER    BOSDEGER    BOSDEGER      1  \n",
              "1203    BOSDEGER    BOSDEGER    BOSDEGER      1  \n",
              "\n",
              "[1204 rows x 6 columns]"
            ]
          },
          "execution_count": 103,
          "metadata": {},
          "output_type": "execute_result"
        }
      ],
      "source": [
        "df"
      ]
    },
    {
      "cell_type": "code",
      "execution_count": null,
      "metadata": {
        "id": "-OKKt-XIdxX4"
      },
      "outputs": [],
      "source": []
    }
  ],
  "metadata": {
    "kernelspec": {
      "display_name": "Python 3",
      "language": "python",
      "name": "python3"
    },
    "language_info": {
      "codemirror_mode": {
        "name": "ipython",
        "version": 3
      },
      "file_extension": ".py",
      "mimetype": "text/x-python",
      "name": "python",
      "nbconvert_exporter": "python",
      "pygments_lexer": "ipython3",
      "version": "3.8.3"
    },
    "colab": {
      "provenance": [],
      "include_colab_link": true
    }
  },
  "nbformat": 4,
  "nbformat_minor": 0
}